{
 "cells": [
  {
   "cell_type": "markdown",
   "id": "cd03e984-7b12-4689-9d22-42a4b495a09e",
   "metadata": {},
   "source": [
    "Import all needed libraries"
   ]
  },
  {
   "cell_type": "code",
   "execution_count": 109,
   "id": "e02e99ee-1c49-4197-b452-15ea2478beb6",
   "metadata": {},
   "outputs": [],
   "source": [
    "import requests\n",
    "import urllib.parse\n",
    "import urllib.request\n",
    "import json"
   ]
  },
  {
   "cell_type": "markdown",
   "id": "a4388476-7221-4591-b391-269fe2cd02f1",
   "metadata": {},
   "source": [
    "Set host and API credentials\n",
    "* __host__               - API host\n",
    "* __API_CLIENT_ID__      - API client ID\n",
    "* __API_CLIENT_SECRET__  - API client secret\n"
   ]
  },
  {
   "cell_type": "code",
   "execution_count": 111,
   "id": "c265b1b2-d713-4b0b-bcdc-def9ef474e2f",
   "metadata": {},
   "outputs": [],
   "source": [
    "host = 'https://sandbox.datadryad.org'\n",
    "API_CLIENT_ID = \"[CLIENT_ID]\"\n",
    "API_CLIENT_SECRET = \"[CLIENT_SECRET]\"\n",
    "\n",
    "headers = {\"Content-Type\": \"application/json\"}"
   ]
  },
  {
   "cell_type": "markdown",
   "id": "5a9e7dea-9d24-4128-91e0-0dac589da4ea",
   "metadata": {},
   "source": [
    "Authorize API connection and retrieve access token"
   ]
  },
  {
   "cell_type": "code",
   "execution_count": 112,
   "id": "6f3bd89a-e475-4cec-8aa9-8254929a4842",
   "metadata": {},
   "outputs": [],
   "source": [
    "payload = {'client_id': API_CLIENT_ID, 'client_secret': API_CLIENT_SECRET, 'grant_type': 'client_credentials'}\n",
    "payload = {\n",
    "    \"client_id\": API_CLIENT_ID,\n",
    "    \"client_secret\": API_CLIENT_SECRET, \n",
    "    \"grant_type\": \"client_credentials\"\n",
    "}\n",
    "url = f'{host}/oauth/token'\n",
    "response = requests.post(url, data=json.dumps(payload), headers=headers)\n",
    "\n",
    "if response.status_code != 200:\n",
    "    raise SystemExit(response.json()['error_description'])\n",
    "token = response.json()['access_token']\n",
    "\n",
    "if not token:\n",
    "    raise SystemExit('Unable to retrieve access token')\n",
    "\n",
    "headers['Authorization'] = f'{response.json()['token_type']} {token}'"
   ]
  },
  {
   "cell_type": "markdown",
   "id": "a9a42849-70f6-42e7-9a57-086be116325c",
   "metadata": {},
   "source": [
    "Create dataset"
   ]
  },
  {
   "cell_type": "code",
   "execution_count": 115,
   "id": "9072c664-e89c-4286-9f4d-40387bff0e58",
   "metadata": {},
   "outputs": [
    {
     "name": "stdout",
     "output_type": "stream",
     "text": [
      "Resource successfully created\n"
     ]
    }
   ],
   "source": [
    "payload = {\n",
    "    \"title\": \"Data from: Jupyter Notebook uploaded through API\",\n",
    "    \"abstract\" : \"This study develops the random phylogenies rate test (RAPRATE), a likelihood method that simulates morphological evolution along randomly generated phylogenies, and uses it to determine whether a considerable difference in morphological diversity between two sister clades of South American fishes should be taken as evidence of differing rates of morphological change or lineage turnover.\",\n",
    "    \"authors\" : [ \n",
    "        {\n",
    "            \"firstName\" : \"Test\",\n",
    "    \t    \"lastName\" : \"Author\",\n",
    "    \t    \"email\" : \"test@examples.com\",\n",
    "    \t    \"orcid\" : \"0009-0000-4404-1689\",\n",
    "    \t    \"affiliation\" : \"Oregon State University\",\n",
    "    \t    \"affiliationROR\" : \"https://ror.org/00ysfqy60\"\n",
    "    \t}\n",
    "    ]\n",
    "}\n",
    "headers['Content-Type'] = 'application/json'\n",
    "url = f'{host}/api/v2/datasets'\n",
    "response = requests.post(url, data=json.dumps(payload), headers=headers)\n",
    "dataset_id = response.json()['id']\n",
    "dataset_url = f'{host}{response.json()['_links']['self']['href']}'\n",
    "\n",
    "if 'error' in response.json():\n",
    "    raise SystemExit(response.json()['error']); exit\n",
    "else:\n",
    "    print('Resource successfully created')"
   ]
  },
  {
   "cell_type": "markdown",
   "id": "6c4e2b56-ca10-4c26-a2ec-38cca903928f",
   "metadata": {},
   "source": [
    "Update dataset and set set al missing info"
   ]
  },
  {
   "cell_type": "code",
   "execution_count": 123,
   "id": "71a45f81-0063-4643-a78a-f39a6144afbf",
   "metadata": {},
   "outputs": [],
   "source": [
    "payload = {\n",
    "  \"title\": \"A Study of Red-Black Trees with Weight\",\n",
    "  \"authors\": [\n",
    "    {\n",
    "      \"firstName\": \"Matilda\",\n",
    "      \"lastName\": \"Swinton\",\n",
    "      \"email\": \"matilda.swinton@example.com\",\n",
    "      \"affiliation\": \"Example Organization\"\n",
    "    }\n",
    "  ],\n",
    "  \"abstract\": \"<p>Information theorists agree that \\\"fuzzy\\\" models are an interesting new topic in the field of machine learning.</p>\\r\\n\",\n",
    "  \"funders\": [\n",
    "    {\n",
    "      \"organization\": \"Stichting Sem Presser Archief\",\n",
    "      \"identifierType\": \"ror\",\n",
    "      \"identifier\": \"https://ror.org/02f5r3008\",\n",
    "      \"awardNumber\": \"12345\"\n",
    "    }\n",
    "  ],\n",
    "  \"keywords\": [\n",
    "    \"Cat\",\n",
    "    \"Host\",\n",
    "    \"Computer\",\n",
    "    \"Log\"\n",
    "  ],\n",
    "  \"methods\": \"<p><br>\\r\\nMany mathematicians would agree that, had it not been for systems, the emulation of active networks might never have occurred. We view algorithms as following a cycle of four phases: simulation, investigation, observation, and investigation. After years of robust research into Boolean logic, we confirm the evaluation of Smalltalk. to what extent can spreadsheets be evaluated to realize this intent?</p>\\r\\n\",\n",
    "  \"relatedWorks\": [\n",
    "    {\n",
    "      \"relationship\": \"article\",\n",
    "      \"identifierType\": \"URL\",\n",
    "      \"identifier\": \"http://example.org/cats\"\n",
    "    }\n",
    "  ],\n",
    "  \"userId\": 2,\n",
    "  \"email\": \"some_email@example.com\"\n",
    "}\n",
    "\n",
    "headers['Content-Type'] = 'application/json'\n",
    "response = requests.put(dataset_url, data=json.dumps(payload), headers=headers)\n",
    "if response.status_code != 200:\n",
    "    raise SystemExit(response.json()['error_description'])"
   ]
  },
  {
   "cell_type": "markdown",
   "id": "f6fe81b0-1fe0-43cb-9a00-b9a5a6bdeea8",
   "metadata": {},
   "source": [
    "Embed a file on the dataset using file "
   ]
  },
  {
   "cell_type": "code",
   "execution_count": 118,
   "id": "eef23b0f-8dff-421e-8585-37ef6b8e3c43",
   "metadata": {},
   "outputs": [
    {
     "ename": "SystemExit",
     "evalue": "You have already supplied this url",
     "output_type": "error",
     "traceback": [
      "An exception has occurred, use %tb to see the full traceback.\n",
      "\u001b[0;31mSystemExit\u001b[0m\u001b[0;31m:\u001b[0m You have already supplied this url\n"
     ]
    }
   ],
   "source": [
    "embed_url = f'{dataset_url}/urls'\n",
    "payload = {\n",
    "    \"url\": \"https://github.com/datadryad/dryad-app/blob/e927b514efe97fc08c7fc30d99389a5ec6d8a493/documentation/apis/sample_dataset.json\",\n",
    "    \"digest\": \"aca3032d20c829a6060f1b90afda6d14\",\n",
    "    \"digestType\": \"md5\",\n",
    "    \"description\": \"This is the best file ever!\",\n",
    "    \"size\": 1234,\n",
    "    \"path\": \"api_submission.md\",\n",
    "    \"mimeType\": \"text/plain\",\n",
    "    \"skipValidation\": True\n",
    "}\n",
    "\n",
    "headers['Content-Type'] = 'application/json'\n",
    "response = requests.post(embed_url, data=json.dumps(payload), headers=headers)\n",
    "if 'error' in response.json():\n",
    "    raise SystemExit(response.json()['error']); exit\n",
    "else:\n",
    "    print('File successfuly embeded')\n",
    "    \n",
    "response.json()"
   ]
  },
  {
   "cell_type": "markdown",
   "id": "7906be8a-c762-49d4-ad29-e0b25a78c64d",
   "metadata": {},
   "source": [
    "Upload a file on the dataset"
   ]
  },
  {
   "cell_type": "code",
   "execution_count": 125,
   "id": "c264f6ea-55b7-46d8-8626-98715616dfd4",
   "metadata": {},
   "outputs": [
    {
     "ename": "JSONDecodeError",
     "evalue": "Expecting value: line 1 column 1 (char 0)",
     "output_type": "error",
     "traceback": [
      "\u001b[0;31m---------------------------------------------------------------------------\u001b[0m",
      "\u001b[0;31mJSONDecodeError\u001b[0m                           Traceback (most recent call last)",
      "File \u001b[0;32m/opt/homebrew/Cellar/jupyterlab/4.2.5_1/libexec/lib/python3.12/site-packages/requests/models.py:974\u001b[0m, in \u001b[0;36mResponse.json\u001b[0;34m(self, **kwargs)\u001b[0m\n\u001b[1;32m    973\u001b[0m \u001b[38;5;28;01mtry\u001b[39;00m:\n\u001b[0;32m--> 974\u001b[0m     \u001b[38;5;28;01mreturn\u001b[39;00m \u001b[43mcomplexjson\u001b[49m\u001b[38;5;241;43m.\u001b[39;49m\u001b[43mloads\u001b[49m\u001b[43m(\u001b[49m\u001b[38;5;28;43mself\u001b[39;49m\u001b[38;5;241;43m.\u001b[39;49m\u001b[43mtext\u001b[49m\u001b[43m,\u001b[49m\u001b[43m \u001b[49m\u001b[38;5;241;43m*\u001b[39;49m\u001b[38;5;241;43m*\u001b[39;49m\u001b[43mkwargs\u001b[49m\u001b[43m)\u001b[49m\n\u001b[1;32m    975\u001b[0m \u001b[38;5;28;01mexcept\u001b[39;00m JSONDecodeError \u001b[38;5;28;01mas\u001b[39;00m e:\n\u001b[1;32m    976\u001b[0m     \u001b[38;5;66;03m# Catch JSON-related errors and raise as requests.JSONDecodeError\u001b[39;00m\n\u001b[1;32m    977\u001b[0m     \u001b[38;5;66;03m# This aliases json.JSONDecodeError and simplejson.JSONDecodeError\u001b[39;00m\n",
      "File \u001b[0;32m/opt/homebrew/Cellar/python@3.12/3.12.6/Frameworks/Python.framework/Versions/3.12/lib/python3.12/json/__init__.py:346\u001b[0m, in \u001b[0;36mloads\u001b[0;34m(s, cls, object_hook, parse_float, parse_int, parse_constant, object_pairs_hook, **kw)\u001b[0m\n\u001b[1;32m    343\u001b[0m \u001b[38;5;28;01mif\u001b[39;00m (\u001b[38;5;28mcls\u001b[39m \u001b[38;5;129;01mis\u001b[39;00m \u001b[38;5;28;01mNone\u001b[39;00m \u001b[38;5;129;01mand\u001b[39;00m object_hook \u001b[38;5;129;01mis\u001b[39;00m \u001b[38;5;28;01mNone\u001b[39;00m \u001b[38;5;129;01mand\u001b[39;00m\n\u001b[1;32m    344\u001b[0m         parse_int \u001b[38;5;129;01mis\u001b[39;00m \u001b[38;5;28;01mNone\u001b[39;00m \u001b[38;5;129;01mand\u001b[39;00m parse_float \u001b[38;5;129;01mis\u001b[39;00m \u001b[38;5;28;01mNone\u001b[39;00m \u001b[38;5;129;01mand\u001b[39;00m\n\u001b[1;32m    345\u001b[0m         parse_constant \u001b[38;5;129;01mis\u001b[39;00m \u001b[38;5;28;01mNone\u001b[39;00m \u001b[38;5;129;01mand\u001b[39;00m object_pairs_hook \u001b[38;5;129;01mis\u001b[39;00m \u001b[38;5;28;01mNone\u001b[39;00m \u001b[38;5;129;01mand\u001b[39;00m \u001b[38;5;129;01mnot\u001b[39;00m kw):\n\u001b[0;32m--> 346\u001b[0m     \u001b[38;5;28;01mreturn\u001b[39;00m \u001b[43m_default_decoder\u001b[49m\u001b[38;5;241;43m.\u001b[39;49m\u001b[43mdecode\u001b[49m\u001b[43m(\u001b[49m\u001b[43ms\u001b[49m\u001b[43m)\u001b[49m\n\u001b[1;32m    347\u001b[0m \u001b[38;5;28;01mif\u001b[39;00m \u001b[38;5;28mcls\u001b[39m \u001b[38;5;129;01mis\u001b[39;00m \u001b[38;5;28;01mNone\u001b[39;00m:\n",
      "File \u001b[0;32m/opt/homebrew/Cellar/python@3.12/3.12.6/Frameworks/Python.framework/Versions/3.12/lib/python3.12/json/decoder.py:337\u001b[0m, in \u001b[0;36mJSONDecoder.decode\u001b[0;34m(self, s, _w)\u001b[0m\n\u001b[1;32m    333\u001b[0m \u001b[38;5;250m\u001b[39m\u001b[38;5;124;03m\"\"\"Return the Python representation of ``s`` (a ``str`` instance\u001b[39;00m\n\u001b[1;32m    334\u001b[0m \u001b[38;5;124;03mcontaining a JSON document).\u001b[39;00m\n\u001b[1;32m    335\u001b[0m \n\u001b[1;32m    336\u001b[0m \u001b[38;5;124;03m\"\"\"\u001b[39;00m\n\u001b[0;32m--> 337\u001b[0m obj, end \u001b[38;5;241m=\u001b[39m \u001b[38;5;28;43mself\u001b[39;49m\u001b[38;5;241;43m.\u001b[39;49m\u001b[43mraw_decode\u001b[49m\u001b[43m(\u001b[49m\u001b[43ms\u001b[49m\u001b[43m,\u001b[49m\u001b[43m \u001b[49m\u001b[43midx\u001b[49m\u001b[38;5;241;43m=\u001b[39;49m\u001b[43m_w\u001b[49m\u001b[43m(\u001b[49m\u001b[43ms\u001b[49m\u001b[43m,\u001b[49m\u001b[43m \u001b[49m\u001b[38;5;241;43m0\u001b[39;49m\u001b[43m)\u001b[49m\u001b[38;5;241;43m.\u001b[39;49m\u001b[43mend\u001b[49m\u001b[43m(\u001b[49m\u001b[43m)\u001b[49m\u001b[43m)\u001b[49m\n\u001b[1;32m    338\u001b[0m end \u001b[38;5;241m=\u001b[39m _w(s, end)\u001b[38;5;241m.\u001b[39mend()\n",
      "File \u001b[0;32m/opt/homebrew/Cellar/python@3.12/3.12.6/Frameworks/Python.framework/Versions/3.12/lib/python3.12/json/decoder.py:355\u001b[0m, in \u001b[0;36mJSONDecoder.raw_decode\u001b[0;34m(self, s, idx)\u001b[0m\n\u001b[1;32m    354\u001b[0m \u001b[38;5;28;01mexcept\u001b[39;00m \u001b[38;5;167;01mStopIteration\u001b[39;00m \u001b[38;5;28;01mas\u001b[39;00m err:\n\u001b[0;32m--> 355\u001b[0m     \u001b[38;5;28;01mraise\u001b[39;00m JSONDecodeError(\u001b[38;5;124m\"\u001b[39m\u001b[38;5;124mExpecting value\u001b[39m\u001b[38;5;124m\"\u001b[39m, s, err\u001b[38;5;241m.\u001b[39mvalue) \u001b[38;5;28;01mfrom\u001b[39;00m \u001b[38;5;28;01mNone\u001b[39;00m\n\u001b[1;32m    356\u001b[0m \u001b[38;5;28;01mreturn\u001b[39;00m obj, end\n",
      "\u001b[0;31mJSONDecodeError\u001b[0m: Expecting value: line 1 column 1 (char 0)",
      "\nDuring handling of the above exception, another exception occurred:\n",
      "\u001b[0;31mJSONDecodeError\u001b[0m                           Traceback (most recent call last)",
      "Cell \u001b[0;32mIn[125], line 10\u001b[0m\n\u001b[1;32m      7\u001b[0m     files \u001b[38;5;241m=\u001b[39m {\u001b[38;5;124m'\u001b[39m\u001b[38;5;124mfile\u001b[39m\u001b[38;5;124m'\u001b[39m: file}\n\u001b[1;32m      8\u001b[0m     response \u001b[38;5;241m=\u001b[39m requests\u001b[38;5;241m.\u001b[39mput(upload_url, files\u001b[38;5;241m=\u001b[39mfiles, headers\u001b[38;5;241m=\u001b[39mheaders)\n\u001b[0;32m---> 10\u001b[0m \u001b[38;5;28;01mif\u001b[39;00m \u001b[38;5;124m'\u001b[39m\u001b[38;5;124merror\u001b[39m\u001b[38;5;124m'\u001b[39m \u001b[38;5;129;01min\u001b[39;00m \u001b[43mresponse\u001b[49m\u001b[38;5;241;43m.\u001b[39;49m\u001b[43mjson\u001b[49m\u001b[43m(\u001b[49m\u001b[43m)\u001b[49m:\n\u001b[1;32m     11\u001b[0m     \u001b[38;5;28;01mraise\u001b[39;00m \u001b[38;5;167;01mSystemExit\u001b[39;00m(response\u001b[38;5;241m.\u001b[39mjson()[\u001b[38;5;124m'\u001b[39m\u001b[38;5;124merror\u001b[39m\u001b[38;5;124m'\u001b[39m]); exit\n\u001b[1;32m     12\u001b[0m \u001b[38;5;28;01melse\u001b[39;00m:\n",
      "File \u001b[0;32m/opt/homebrew/Cellar/jupyterlab/4.2.5_1/libexec/lib/python3.12/site-packages/requests/models.py:978\u001b[0m, in \u001b[0;36mResponse.json\u001b[0;34m(self, **kwargs)\u001b[0m\n\u001b[1;32m    974\u001b[0m     \u001b[38;5;28;01mreturn\u001b[39;00m complexjson\u001b[38;5;241m.\u001b[39mloads(\u001b[38;5;28mself\u001b[39m\u001b[38;5;241m.\u001b[39mtext, \u001b[38;5;241m*\u001b[39m\u001b[38;5;241m*\u001b[39mkwargs)\n\u001b[1;32m    975\u001b[0m \u001b[38;5;28;01mexcept\u001b[39;00m JSONDecodeError \u001b[38;5;28;01mas\u001b[39;00m e:\n\u001b[1;32m    976\u001b[0m     \u001b[38;5;66;03m# Catch JSON-related errors and raise as requests.JSONDecodeError\u001b[39;00m\n\u001b[1;32m    977\u001b[0m     \u001b[38;5;66;03m# This aliases json.JSONDecodeError and simplejson.JSONDecodeError\u001b[39;00m\n\u001b[0;32m--> 978\u001b[0m     \u001b[38;5;28;01mraise\u001b[39;00m RequestsJSONDecodeError(e\u001b[38;5;241m.\u001b[39mmsg, e\u001b[38;5;241m.\u001b[39mdoc, e\u001b[38;5;241m.\u001b[39mpos)\n",
      "\u001b[0;31mJSONDecodeError\u001b[0m: Expecting value: line 1 column 1 (char 0)"
     ]
    }
   ],
   "source": [
    "file_name = 'upload_test.txt'\n",
    "upload_url = f'{dataset_url}/files/{urllib.parse.quote(file_name, safe='')}'\n",
    "file_path = f'./{file_name}'\n",
    "\n",
    "headers['Content-Type'] = 'application/json'\n",
    "with open(file_path, 'rb') as file:\n",
    "    files = {'file': file}\n",
    "    response = requests.put(upload_url, files=files, headers=headers)\n",
    "\n",
    "if 'error' in response.json():\n",
    "    raise SystemExit(response.json()['error']); exit\n",
    "else:\n",
    "    print('File successfuly uploaded')\n",
    "    \n",
    "response.json()"
   ]
  },
  {
   "cell_type": "markdown",
   "id": "8ce4c50a-5c38-4d0a-866b-95307b87dd13",
   "metadata": {},
   "source": [
    "Submit dataset"
   ]
  },
  {
   "cell_type": "code",
   "execution_count": 124,
   "id": "c1e18f98-e8bd-489e-9d88-9aea1191be5e",
   "metadata": {},
   "outputs": [
    {
     "name": "stdout",
     "output_type": "stream",
     "text": [
      "Errors: \n",
      "Fill in submitting author's email, Fill in a research domain, Include a README to describe your dataset.\n"
     ]
    }
   ],
   "source": [
    "payload = {\n",
    "    \"op\": \"replace\",\n",
    "    \"path\": \"/versionStatus\",\n",
    "    \"value\": \"submitted\"\n",
    "}\n",
    "\n",
    "headers['Content-Type'] = 'application/json-patch+json'\n",
    "response = requests.patch(dataset_url, data=json.dumps(payload), headers=headers)\n",
    "\n",
    "errors = [obj['error'] for obj in response.json()]\n",
    "\n",
    "if len(errors) > 0:\n",
    "    print('Errors: ')\n",
    "    print(', '.join(errors))\n",
    "else:\n",
    "    print('Status successfully updated')"
   ]
  },
  {
   "cell_type": "code",
   "execution_count": null,
   "id": "b00cc97b-47d6-4795-867b-cbd86c0cf2ea",
   "metadata": {},
   "outputs": [],
   "source": []
  }
 ],
 "metadata": {
  "kernelspec": {
   "display_name": "Python 3 (ipykernel)",
   "language": "python",
   "name": "python3"
  },
  "language_info": {
   "codemirror_mode": {
    "name": "ipython",
    "version": 3
   },
   "file_extension": ".py",
   "mimetype": "text/x-python",
   "name": "python",
   "nbconvert_exporter": "python",
   "pygments_lexer": "ipython3",
   "version": "3.12.6"
  }
 },
 "nbformat": 4,
 "nbformat_minor": 5
}
