{
 "cells": [
  {
   "cell_type": "markdown",
   "id": "cd03e984-7b12-4689-9d22-42a4b495a09e",
   "metadata": {},
   "source": [
    "Import all needed libraries"
   ]
  },
  {
   "cell_type": "code",
   "execution_count": 1,
   "id": "e02e99ee-1c49-4197-b452-15ea2478beb6",
   "metadata": {},
   "outputs": [],
   "source": [
    "import requests\n",
    "import urllib.parse\n",
    "import urllib.request\n",
    "import csv\n",
    "import pandas as pd\n",
    "import numpy as np\n",
    "import matplotlib.pyplot as plt"
   ]
  },
  {
   "cell_type": "markdown",
   "id": "a4388476-7221-4591-b391-269fe2cd02f1",
   "metadata": {},
   "source": [
    "Set configuration\n",
    "* __host__        - API host\n",
    "* __dataset_doi__ - DOI of your dataset\n",
    "* __file_name__   - Name of the file that contain the date you need to view\n",
    "* __column__      - Name of the column containing the date that will appear in the chart"
   ]
  },
  {
   "cell_type": "code",
   "execution_count": 2,
   "id": "c265b1b2-d713-4b0b-bcdc-def9ef474e2f",
   "metadata": {},
   "outputs": [],
   "source": [
    "host = 'https://sandbox.datadryad.org' # IMPORTANT! Change to https://datadryad.org for real datasets\n",
    "dataset_doi = 'doi:10.7959/dryad.h70rxwddz'\n",
    "file_name = 'aTable.csv'\n",
    "column = 'rutabaga'"
   ]
  },
  {
   "cell_type": "markdown",
   "id": "a9a42849-70f6-42e7-9a57-086be116325c",
   "metadata": {},
   "source": [
    "Retrieve last version of your dataset"
   ]
  },
  {
   "cell_type": "code",
   "execution_count": 3,
   "id": "9072c664-e89c-4286-9f4d-40387bff0e58",
   "metadata": {},
   "outputs": [],
   "source": [
    "url = f'{host}/api/v2/datasets/{urllib.parse.quote(dataset_doi, safe='')}'\n",
    "response = requests.get(url) \n",
    "last_version_url = response.json()['_links']['stash:version']['href']"
   ]
  },
  {
   "cell_type": "markdown",
   "id": "6c4e2b56-ca10-4c26-a2ec-38cca903928f",
   "metadata": {},
   "source": [
    "Retrieve the list of files"
   ]
  },
  {
   "cell_type": "code",
   "execution_count": 4,
   "id": "71a45f81-0063-4643-a78a-f39a6144afbf",
   "metadata": {},
   "outputs": [],
   "source": [
    "url = f'{host}{last_version_url}/files'\n",
    "response = requests.get(url)\n",
    "files = response.json()"
   ]
  },
  {
   "cell_type": "markdown",
   "id": "f6fe81b0-1fe0-43cb-9a00-b9a5a6bdeea8",
   "metadata": {},
   "source": [
    "Select specified file by name"
   ]
  },
  {
   "cell_type": "code",
   "execution_count": 5,
   "id": "eef23b0f-8dff-421e-8585-37ef6b8e3c43",
   "metadata": {},
   "outputs": [],
   "source": [
    "file_json = None\n",
    "for f in files['_embedded']['stash:files']:\n",
    "    if f['path'] == file_name:\n",
    "        file_json = f\n",
    "\n",
    "if file_json == None:\n",
    "    raise SystemExit('File not found')"
   ]
  },
  {
   "cell_type": "markdown",
   "id": "7906be8a-c762-49d4-ad29-e0b25a78c64d",
   "metadata": {},
   "source": [
    "Parse CSV file and retrieve specified column data "
   ]
  },
  {
   "cell_type": "code",
   "execution_count": 6,
   "id": "c264f6ea-55b7-46d8-8626-98715616dfd4",
   "metadata": {},
   "outputs": [],
   "source": [
    "download_url = f'{host}{file_json['_links']['stash:download']['href']}'\n",
    "df = pd.read_csv(download_url, usecols=[column])\n",
    "column_values = df.values.flatten()\n",
    "\n",
    "if column_values.size == 0:\n",
    "    raise SystemExit(f'Column \"{column}\" does not contain any values')"
   ]
  },
  {
   "cell_type": "markdown",
   "id": "8ce4c50a-5c38-4d0a-866b-95307b87dd13",
   "metadata": {},
   "source": [
    "Show colum data in Bar chart format"
   ]
  },
  {
   "cell_type": "code",
   "execution_count": 7,
   "id": "c1e18f98-e8bd-489e-9d88-9aea1191be5e",
   "metadata": {},
   "outputs": [
    {
     "data": {
      "image/png": "[encoded data removed]",
      "text/plain": [
       "<Figure size 640x480 with 1 Axes>"
      ]
     },
     "metadata": {},
     "output_type": "display_data"
    }
   ],
   "source": [
    "if file_json and column_values.size > 0:\n",
    "    x = 0.5 + np.arange(column_values.size)\n",
    "    y = column_values\n",
    "    \n",
    "    plt.title(column)\n",
    "    plt.bar(x, y, width=1, edgecolor=\"white\", linewidth=0.7)\n",
    "    \n",
    "    plt.show()"
   ]
  }
 ],
 "metadata": {
  "kernelspec": {
   "display_name": "Python 3 (ipykernel)",
   "language": "python",
   "name": "python3"
  },
  "language_info": {
   "codemirror_mode": {
    "name": "ipython",
    "version": 3
   },
   "file_extension": ".py",
   "mimetype": "text/x-python",
   "name": "python",
   "nbconvert_exporter": "python",
   "pygments_lexer": "ipython3",
   "version": "3.12.6"
  }
 },
 "nbformat": 4,
 "nbformat_minor": 5
}
